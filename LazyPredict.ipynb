{
  "nbformat": 4,
  "nbformat_minor": 0,
  "metadata": {
    "colab": {
      "provenance": []
    },
    "kernelspec": {
      "name": "python3",
      "display_name": "Python 3"
    },
    "language_info": {
      "name": "python"
    }
  },
  "cells": [
    {
      "cell_type": "markdown",
      "source": [
        "## **LazyPredict**"
      ],
      "metadata": {
        "id": "K10kockYcc7L"
      }
    },
    {
      "cell_type": "markdown",
      "source": [
        "# **Installation**"
      ],
      "metadata": {
        "id": "zIx_mddzWMTd"
      }
    },
    {
      "cell_type": "code",
      "source": [
        "!pip install lazypredict"
      ],
      "metadata": {
        "colab": {
          "base_uri": "https://localhost:8080/"
        },
        "id": "i_wSjswGU8aI",
        "outputId": "d1aa6d69-0e6a-488a-b36b-21ae9ed1fa1b"
      },
      "execution_count": null,
      "outputs": [
        {
          "output_type": "stream",
          "name": "stdout",
          "text": [
            "Looking in indexes: https://pypi.org/simple, https://us-python.pkg.dev/colab-wheels/public/simple/\n",
            "Requirement already satisfied: lazypredict in /usr/local/lib/python3.8/dist-packages (0.2.12)\n",
            "Requirement already satisfied: joblib in /usr/local/lib/python3.8/dist-packages (from lazypredict) (1.2.0)\n",
            "Requirement already satisfied: pandas in /usr/local/lib/python3.8/dist-packages (from lazypredict) (1.3.5)\n",
            "Requirement already satisfied: xgboost in /usr/local/lib/python3.8/dist-packages (from lazypredict) (0.90)\n",
            "Requirement already satisfied: click in /usr/local/lib/python3.8/dist-packages (from lazypredict) (7.1.2)\n",
            "Requirement already satisfied: lightgbm in /usr/local/lib/python3.8/dist-packages (from lazypredict) (2.2.3)\n",
            "Requirement already satisfied: tqdm in /usr/local/lib/python3.8/dist-packages (from lazypredict) (4.64.1)\n",
            "Requirement already satisfied: scikit-learn in /usr/local/lib/python3.8/dist-packages (from lazypredict) (0.24.0)\n",
            "Requirement already satisfied: scipy in /usr/local/lib/python3.8/dist-packages (from lightgbm->lazypredict) (1.7.3)\n",
            "Requirement already satisfied: numpy in /usr/local/lib/python3.8/dist-packages (from lightgbm->lazypredict) (1.22.4)\n",
            "Requirement already satisfied: python-dateutil>=2.7.3 in /usr/local/lib/python3.8/dist-packages (from pandas->lazypredict) (2.8.2)\n",
            "Requirement already satisfied: pytz>=2017.3 in /usr/local/lib/python3.8/dist-packages (from pandas->lazypredict) (2022.7.1)\n",
            "Requirement already satisfied: threadpoolctl>=2.0.0 in /usr/local/lib/python3.8/dist-packages (from scikit-learn->lazypredict) (3.1.0)\n",
            "Requirement already satisfied: six>=1.5 in /usr/local/lib/python3.8/dist-packages (from python-dateutil>=2.7.3->pandas->lazypredict) (1.15.0)\n"
          ]
        }
      ]
    },
    {
      "cell_type": "markdown",
      "source": [
        "# **Loading the Dataset**"
      ],
      "metadata": {
        "id": "oWdqXFsvWPTU"
      }
    },
    {
      "cell_type": "code",
      "source": [
        "from sklearn.datasets import load_breast_cancer\n",
        "from lazypredict.Supervised import LazyClassifier\n",
        "\n",
        "data = load_breast_cancer()\n",
        "X = data.data\n",
        "y= data.target"
      ],
      "metadata": {
        "id": "gJtUbFDOVCQe"
      },
      "execution_count": null,
      "outputs": []
    },
    {
      "cell_type": "markdown",
      "source": [
        "# **Instantiating the class**"
      ],
      "metadata": {
        "id": "puXvPr3HWWZ5"
      }
    },
    {
      "cell_type": "code",
      "source": [
        "LazyClassifier(\n",
        "    verbose=0,\n",
        "    ignore_warnings=True,\n",
        "    custom_metric=None,\n",
        "    predictions=False,\n",
        "    random_state=42,\n",
        "    classifiers='all',\n",
        ")"
      ],
      "metadata": {
        "colab": {
          "base_uri": "https://localhost:8080/"
        },
        "id": "hiBsL56sVEVA",
        "outputId": "1113c976-6a6e-4050-e612-463f463b08fa"
      },
      "execution_count": null,
      "outputs": [
        {
          "output_type": "execute_result",
          "data": {
            "text/plain": [
              "<lazypredict.Supervised.LazyClassifier at 0x7fe4380ddf10>"
            ]
          },
          "metadata": {},
          "execution_count": 3
        }
      ]
    },
    {
      "cell_type": "markdown",
      "source": [
        "# **Building the classification model using LazyPredict**"
      ],
      "metadata": {
        "id": "TMJAj6h-WcXY"
      }
    },
    {
      "cell_type": "code",
      "source": [
        "from lazypredict.Supervised import LazyClassifier\n",
        "from sklearn.model_selection import train_test_split\n",
        "\n",
        "# split the data\n",
        "X_train, X_test, y_train, y_test = train_test_split(X, y,test_size=0.3,random_state =0)\n",
        "\n",
        "# build the lazyclassifier\n",
        "clf = LazyClassifier(verbose=0,ignore_warnings=True, custom_metric=None)\n",
        "\n",
        "# fit it\n",
        "models, predictions = clf.fit(X_train, X_test, y_train, y_test)\n",
        "\n",
        "# print the best models\n",
        "print(models)"
      ],
      "metadata": {
        "colab": {
          "base_uri": "https://localhost:8080/"
        },
        "id": "4ZUPu6r1VGH2",
        "outputId": "093b52b3-522f-40fa-dfbb-c0586573a431"
      },
      "execution_count": null,
      "outputs": [
        {
          "output_type": "stream",
          "name": "stderr",
          "text": [
            "100%|██████████| 29/29 [00:01<00:00, 17.89it/s]"
          ]
        },
        {
          "output_type": "stream",
          "name": "stdout",
          "text": [
            "                               Accuracy  Balanced Accuracy  ROC AUC  F1 Score  \\\n",
            "Model                                                                           \n",
            "LGBMClassifier                     0.98               0.98     0.98      0.98   \n",
            "LogisticRegression                 0.98               0.97     0.97      0.98   \n",
            "SVC                                0.98               0.97     0.97      0.98   \n",
            "AdaBoostClassifier                 0.96               0.97     0.97      0.97   \n",
            "RandomForestClassifier             0.96               0.96     0.96      0.96   \n",
            "LinearDiscriminantAnalysis         0.97               0.96     0.96      0.97   \n",
            "XGBClassifier                      0.96               0.96     0.96      0.96   \n",
            "ExtraTreesClassifier               0.96               0.96     0.96      0.96   \n",
            "QuadraticDiscriminantAnalysis      0.95               0.95     0.95      0.95   \n",
            "RidgeClassifierCV                  0.96               0.95     0.95      0.96   \n",
            "RidgeClassifier                    0.96               0.95     0.95      0.96   \n",
            "SGDClassifier                      0.95               0.95     0.95      0.95   \n",
            "PassiveAggressiveClassifier        0.95               0.95     0.95      0.95   \n",
            "KNeighborsClassifier               0.96               0.95     0.95      0.96   \n",
            "CalibratedClassifierCV             0.96               0.95     0.95      0.96   \n",
            "Perceptron                         0.94               0.94     0.94      0.94   \n",
            "LinearSVC                          0.94               0.94     0.94      0.94   \n",
            "LabelSpreading                     0.94               0.94     0.94      0.94   \n",
            "LabelPropagation                   0.94               0.94     0.94      0.94   \n",
            "DecisionTreeClassifier             0.93               0.93     0.93      0.93   \n",
            "BernoulliNB                        0.93               0.93     0.93      0.93   \n",
            "BaggingClassifier                  0.93               0.93     0.93      0.93   \n",
            "NuSVC                              0.93               0.92     0.92      0.93   \n",
            "NearestCentroid                    0.92               0.91     0.91      0.92   \n",
            "GaussianNB                         0.91               0.91     0.91      0.91   \n",
            "ExtraTreeClassifier                0.88               0.89     0.89      0.88   \n",
            "DummyClassifier                    0.63               0.50     0.50      0.49   \n",
            "\n",
            "                               Time Taken  \n",
            "Model                                      \n",
            "LGBMClassifier                       0.16  \n",
            "LogisticRegression                   0.04  \n",
            "SVC                                  0.05  \n",
            "AdaBoostClassifier                   0.18  \n",
            "RandomForestClassifier               0.22  \n",
            "LinearDiscriminantAnalysis           0.05  \n",
            "XGBClassifier                        0.19  \n",
            "ExtraTreesClassifier                 0.13  \n",
            "QuadraticDiscriminantAnalysis        0.05  \n",
            "RidgeClassifierCV                    0.03  \n",
            "RidgeClassifier                      0.02  \n",
            "SGDClassifier                        0.04  \n",
            "PassiveAggressiveClassifier          0.02  \n",
            "KNeighborsClassifier                 0.03  \n",
            "CalibratedClassifierCV               0.05  \n",
            "Perceptron                           0.02  \n",
            "LinearSVC                            0.04  \n",
            "LabelSpreading                       0.03  \n",
            "LabelPropagation                     0.03  \n",
            "DecisionTreeClassifier               0.02  \n",
            "BernoulliNB                          0.02  \n",
            "BaggingClassifier                    0.07  \n",
            "NuSVC                                0.03  \n",
            "NearestCentroid                      0.02  \n",
            "GaussianNB                           0.02  \n",
            "ExtraTreeClassifier                  0.01  \n",
            "DummyClassifier                      0.01  \n"
          ]
        },
        {
          "output_type": "stream",
          "name": "stderr",
          "text": [
            "\n"
          ]
        }
      ]
    },
    {
      "cell_type": "code",
      "source": [
        "model_dictionary = clf.provide_models(X_train,X_test,y_train,y_test)"
      ],
      "metadata": {
        "id": "e-WGnX9tVKCw"
      },
      "execution_count": null,
      "outputs": []
    },
    {
      "cell_type": "code",
      "source": [
        "model_dictionary['LGBMClassifier']"
      ],
      "metadata": {
        "colab": {
          "base_uri": "https://localhost:8080/"
        },
        "id": "JU5UTAENVL25",
        "outputId": "fe1bf6a5-dc10-427c-96e3-d7ed8dcde3bc"
      },
      "execution_count": null,
      "outputs": [
        {
          "output_type": "execute_result",
          "data": {
            "text/plain": [
              "Pipeline(steps=[('preprocessor',\n",
              "                 ColumnTransformer(transformers=[('numeric',\n",
              "                                                  Pipeline(steps=[('imputer',\n",
              "                                                                   SimpleImputer()),\n",
              "                                                                  ('scaler',\n",
              "                                                                   StandardScaler())]),\n",
              "                                                  Int64Index([ 0,  1,  2,  3,  4,  5,  6,  7,  8,  9, 10, 11, 12, 13, 14, 15, 16,\n",
              "            17, 18, 19, 20, 21, 22, 23, 24, 25, 26, 27, 28, 29],\n",
              "           dtype='int64')),\n",
              "                                                 ('categorical_low',\n",
              "                                                  Pipeline(steps=[('imputer',\n",
              "                                                                   SimpleImputer(fill_value='missing',\n",
              "                                                                                 strategy='constant')),\n",
              "                                                                  ('encoding',\n",
              "                                                                   OneHotEncoder(handle_unknown='ignore',\n",
              "                                                                                 sparse=False))]),\n",
              "                                                  Int64Index([], dtype='int64')),\n",
              "                                                 ('categorical_high',\n",
              "                                                  Pipeline(steps=[('imputer',\n",
              "                                                                   SimpleImputer(fill_value='missing',\n",
              "                                                                                 strategy='constant')),\n",
              "                                                                  ('encoding',\n",
              "                                                                   OrdinalEncoder())]),\n",
              "                                                  Int64Index([], dtype='int64'))])),\n",
              "                ('classifier', LGBMClassifier(random_state=42))])"
            ]
          },
          "metadata": {},
          "execution_count": 6
        }
      ]
    },
    {
      "cell_type": "markdown",
      "source": [
        "# **Building the regression model using LazyPredict**"
      ],
      "metadata": {
        "id": "ETWSjLM7W5s0"
      }
    },
    {
      "cell_type": "code",
      "source": [
        "from lazypredict.Supervised import LazyRegressor\n",
        "from sklearn import datasets\n",
        "from sklearn.utils import shuffle\n",
        "import numpy as np\n",
        "\n",
        "# load the data\n",
        "boston = datasets.load_boston()\n",
        "X, y = shuffle(boston.data, boston.target, random_state=0)\n",
        "X = X.astype(np.float32)\n",
        "\n",
        "# split the data\n",
        "X_train, X_test, y_train, y_test = train_test_split(X, y,test_size=0.3,random_state =0)\n",
        "\n",
        "# fit the lazy object\n",
        "reg = LazyRegressor(verbose=0, ignore_warnings=False, custom_metric=None)\n",
        "models, predictions = reg.fit(X_train, X_test, y_train, y_test)\n",
        "\n",
        "# print the results in a table\n",
        "print(models)"
      ],
      "metadata": {
        "colab": {
          "base_uri": "https://localhost:8080/"
        },
        "id": "A8NTDQXFW7yQ",
        "outputId": "72c9b0a3-d3b5-4cbc-d355-31b0cbd85fb8"
      },
      "execution_count": null,
      "outputs": [
        {
          "output_type": "stream",
          "name": "stderr",
          "text": [
            "100%|██████████| 41/41 [00:06<00:00,  6.45it/s]"
          ]
        },
        {
          "output_type": "stream",
          "name": "stdout",
          "text": [
            "[14:52:46] WARNING: /workspace/src/objective/regression_obj.cu:152: reg:linear is now deprecated in favor of reg:squarederror.\n",
            "                               Adjusted R-Squared  R-Squared  RMSE  Time Taken\n",
            "Model                                                                         \n",
            "ExtraTreesRegressor                          0.81       0.82  4.04        0.63\n",
            "GradientBoostingRegressor                    0.81       0.82  4.04        0.33\n",
            "XGBRegressor                                 0.79       0.81  4.21        0.05\n",
            "HistGradientBoostingRegressor                0.78       0.80  4.30        1.87\n",
            "LGBMRegressor                                0.77       0.79  4.42        0.06\n",
            "RandomForestRegressor                        0.76       0.78  4.51        0.33\n",
            "BaggingRegressor                             0.76       0.78  4.54        0.14\n",
            "AdaBoostRegressor                            0.73       0.75  4.83        0.56\n",
            "PoissonRegressor                             0.70       0.73  5.04        0.02\n",
            "DecisionTreeRegressor                        0.70       0.73  5.05        0.04\n",
            "LinearRegression                             0.66       0.69  5.37        0.02\n",
            "TransformedTargetRegressor                   0.66       0.69  5.37        0.01\n",
            "LassoLarsCV                                  0.66       0.69  5.37        0.11\n",
            "LassoCV                                      0.66       0.69  5.37        0.12\n",
            "Ridge                                        0.66       0.69  5.38        0.01\n",
            "ElasticNetCV                                 0.66       0.69  5.39        0.21\n",
            "BayesianRidge                                0.66       0.69  5.40        0.04\n",
            "SGDRegressor                                 0.65       0.68  5.42        0.01\n",
            "RidgeCV                                      0.65       0.68  5.43        0.01\n",
            "KNeighborsRegressor                          0.65       0.68  5.49        0.02\n",
            "LassoLarsIC                                  0.63       0.67  5.58        0.03\n",
            "HuberRegressor                               0.60       0.64  5.81        0.06\n",
            "OrthogonalMatchingPursuitCV                  0.60       0.64  5.82        0.02\n",
            "LarsCV                                       0.59       0.62  5.91        0.10\n",
            "MLPRegressor                                 0.59       0.62  5.93        0.87\n",
            "LinearSVR                                    0.58       0.62  5.97        0.03\n",
            "Lasso                                        0.57       0.61  6.03        0.03\n",
            "ExtraTreeRegressor                           0.56       0.60  6.09        0.04\n",
            "SVR                                          0.56       0.60  6.12        0.02\n",
            "NuSVR                                        0.55       0.58  6.22        0.04\n",
            "ElasticNet                                   0.54       0.58  6.25        0.07\n",
            "TweedieRegressor                             0.52       0.56  6.37        0.01\n",
            "OrthogonalMatchingPursuit                    0.52       0.56  6.42        0.01\n",
            "GammaRegressor                               0.51       0.55  6.44        0.04\n",
            "Lars                                         0.46       0.50  6.79        0.04\n",
            "GaussianProcessRegressor                     0.40       0.46  7.12        0.10\n",
            "PassiveAggressiveRegressor                   0.27       0.34  7.85        0.01\n",
            "DummyRegressor                              -0.10      -0.01  9.67        0.04\n",
            "LassoLars                                   -0.10      -0.01  9.67        0.02\n",
            "RANSACRegressor                             -0.41      -0.29 10.93        0.08\n",
            "KernelRidge                                 -5.36      -4.81 23.25        0.03\n"
          ]
        },
        {
          "output_type": "stream",
          "name": "stderr",
          "text": [
            "\n"
          ]
        }
      ]
    },
    {
      "cell_type": "code",
      "source": [
        "model_dictionary = reg.provide_models(X_train,X_test,y_train,y_test)\n",
        "model_dictionary['ExtraTreesRegressor']"
      ],
      "metadata": {
        "colab": {
          "base_uri": "https://localhost:8080/"
        },
        "id": "6E5JUnFAXFtm",
        "outputId": "752f6d42-1a50-4ad3-a3ba-ac035b6ebdf4"
      },
      "execution_count": null,
      "outputs": [
        {
          "output_type": "execute_result",
          "data": {
            "text/plain": [
              "Pipeline(steps=[('preprocessor',\n",
              "                 ColumnTransformer(transformers=[('numeric',\n",
              "                                                  Pipeline(steps=[('imputer',\n",
              "                                                                   SimpleImputer()),\n",
              "                                                                  ('scaler',\n",
              "                                                                   StandardScaler())]),\n",
              "                                                  Int64Index([0, 1, 2, 3, 4, 5, 6, 7, 8, 9, 10, 11, 12], dtype='int64')),\n",
              "                                                 ('categorical_low',\n",
              "                                                  Pipeline(steps=[('imputer',\n",
              "                                                                   SimpleImputer(fill_value='missing',\n",
              "                                                                                 strategy='constant')),\n",
              "                                                                  ('encoding',\n",
              "                                                                   OneHotEncoder(handle_unknown='ignore',\n",
              "                                                                                 sparse=False))]),\n",
              "                                                  Int64Index([], dtype='int64')),\n",
              "                                                 ('categorical_high',\n",
              "                                                  Pipeline(steps=[('imputer',\n",
              "                                                                   SimpleImputer(fill_value='missing',\n",
              "                                                                                 strategy='constant')),\n",
              "                                                                  ('encoding',\n",
              "                                                                   OrdinalEncoder())]),\n",
              "                                                  Int64Index([], dtype='int64'))])),\n",
              "                ('regressor', ExtraTreesRegressor(random_state=42))])"
            ]
          },
          "metadata": {},
          "execution_count": 8
        }
      ]
    }
  ]
}